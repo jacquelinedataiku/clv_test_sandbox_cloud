{
  "nbformat": 4,
  "nbformat_minor": 0,
  "metadata": {
    "kernelspec": {
      "display_name": "Python 3",
      "language": "python",
      "name": "python3"
    },
    "associatedRecipe": "compute_dataset",
    "dkuGit": {
      "lastInteraction": 0
    },
    "creationTag": {
      "versionNumber": 0,
      "lastModifiedBy": {
        "login": "admin"
      },
      "lastModifiedOn": 1639083207649
    },
    "creator": "admin",
    "createdOn": 1639083207649,
    "tags": [
      "recipe-editor"
    ],
    "customFields": {}
  },
  "cells": [
    {
      "cell_type": "code",
      "metadata": {},
      "outputs": [],
      "execution_count": 0,
      "source": [
        "# -*- coding: utf-8 -*-\n",
        "import dataiku\n",
        "import pandas as pd, numpy as np\n",
        "from dataiku import pandasutils as pdu\n",
        "\n",
        "# Uncomment to use create_target() function from project library\n",
        "#from myfunctions import create_target"
      ]
    },
    {
      "cell_type": "code",
      "metadata": {},
      "outputs": [],
      "execution_count": 0,
      "source": [
        "# Read recipe inputs\n",
        "customers_data_all_joined \u003d dataiku.Dataset(\"customers_data_all_joined\")\n",
        "df \u003d customers_data_all_joined.get_dataframe()"
      ]
    },
    {
      "cell_type": "code",
      "metadata": {},
      "outputs": [],
      "execution_count": 0,
      "source": [
        "# Click on Variables, then Validate and click to place \"revenue_value\" in this code\n",
        "# Then cast it to int and assign it the the variable \"var\"\n",
        "var \u003d int(dataiku.get_custom_variables()[\"revenue_value\"])"
      ]
    },
    {
      "cell_type": "code",
      "metadata": {},
      "outputs": [],
      "execution_count": 0,
      "source": [
        "# Define function to compute target column\n",
        "def create_target(row, v):\n",
        "    revenue \u003d row[\u0027revenue\u0027]\n",
        "    if revenue \u003e\u003d v:\n",
        "        target \u003d 1\n",
        "    elif revenue \u003c v:\n",
        "        target \u003d 0\n",
        "    else:\n",
        "        target \u003d revenue\n",
        "    return target"
      ]
    },
    {
      "cell_type": "code",
      "metadata": {},
      "outputs": [],
      "execution_count": 0,
      "source": [
        "# Call the create_target function to create target column\n",
        "df[\u0027target\u0027] \u003d df.apply(create_target, axis \u003d 1, v \u003d var)"
      ]
    },
    {
      "cell_type": "code",
      "metadata": {},
      "outputs": [],
      "execution_count": 0,
      "source": [
        "# Print df for inspection\n",
        "#df"
      ]
    },
    {
      "cell_type": "code",
      "metadata": {},
      "outputs": [],
      "execution_count": 0,
      "source": [
        "# Write recipe outputs\n",
        "dataset \u003d dataiku.Dataset(\"dataset\")\n",
        "dataset.write_with_schema(df)"
      ]
    }
  ]
}