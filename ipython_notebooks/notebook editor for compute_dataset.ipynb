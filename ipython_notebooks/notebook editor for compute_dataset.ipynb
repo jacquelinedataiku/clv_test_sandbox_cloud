{
  "metadata": {
    "kernelspec": {
      "name": "python3",
      "display_name": "Python 3 (ipykernel)",
      "language": "python"
    },
    "hide_input": false,
    "toc": {
      "nav_menu": {},
      "number_sections": true,
      "sideBar": true,
      "skip_h1_title": false,
      "base_numbering": 1,
      "title_cell": "Table of Contents",
      "title_sidebar": "Contents",
      "toc_cell": false,
      "toc_position": {},
      "toc_section_display": true,
      "toc_window_display": false
    },
    "createdOn": 1639083207649,
    "creator": "admin",
    "dkuGit": {
      "lastInteraction": 0
    },
    "tags": [
      "recipe-editor"
    ],
    "creationTag": {
      "versionNumber": 0,
      "lastModifiedBy": {
        "login": "admin"
      },
      "lastModifiedOn": 1639083207649
    },
    "customFields": {},
    "associatedRecipe": "compute_dataset",
    "modifiedBy": "sciaravino"
  },
  "nbformat": 4,
  "nbformat_minor": 1,
  "cells": [
    {
      "execution_count": 0,
      "cell_type": "code",
      "metadata": {},
      "source": [
        "# -*- coding: utf-8 -*-\nimport dataiku\nimport pandas as pd, numpy as np\nfrom dataiku import pandasutils as pdu\n\n# Uncomment to use create_target() function from project library\n#from myfunctions import create_target"
      ],
      "outputs": []
    },
    {
      "execution_count": 0,
      "cell_type": "code",
      "metadata": {},
      "source": [
        "# Read recipe inputs\ncustomers_data_all_joined \u003d dataiku.Dataset(\"customers_data_all_joined\")\ndf \u003d customers_data_all_joined.get_dataframe()"
      ],
      "outputs": []
    },
    {
      "execution_count": 0,
      "cell_type": "code",
      "metadata": {},
      "source": [
        "# Click on Variables, then Validate and click to place \"revenue_value\" in this code\n# Then cast it to int and assign it the the variable \"var\"\nvar \u003d int(dataiku.get_custom_variables()[\"revenue_value\"])"
      ],
      "outputs": []
    },
    {
      "execution_count": 0,
      "cell_type": "code",
      "metadata": {},
      "source": [
        "# Define function to compute target column\ndef create_target(row, v):\n    revenue \u003d row[\u0027revenue\u0027]\n    if revenue \u003e\u003d v:\n        target \u003d 1\n    elif revenue \u003c v:\n        target \u003d 0\n    else:\n        target \u003d revenue\n    return target"
      ],
      "outputs": []
    },
    {
      "execution_count": 0,
      "cell_type": "code",
      "metadata": {},
      "source": [
        "# Call the create_target function to create target column\ndf[\u0027target\u0027] \u003d df.apply(create_target, axis \u003d 1, v \u003d var)"
      ],
      "outputs": []
    },
    {
      "execution_count": 0,
      "cell_type": "code",
      "metadata": {},
      "source": [
        "# Print df for inspection\n#df"
      ],
      "outputs": []
    },
    {
      "execution_count": 0,
      "cell_type": "code",
      "metadata": {},
      "source": [
        "# Write recipe outputs\ndataset \u003d dataiku.Dataset(\"dataset\")\ndataset.write_with_schema(df)"
      ],
      "outputs": []
    }
  ]
}